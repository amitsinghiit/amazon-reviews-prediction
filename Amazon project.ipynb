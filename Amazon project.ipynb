{
 "cells": [
  {
   "cell_type": "code",
   "execution_count": 1,
   "id": "f17f6e2e-a38b-48b6-87ce-a6a2e9827798",
   "metadata": {},
   "outputs": [
    {
     "data": {
      "text/html": [
       "<div>\n",
       "<style scoped>\n",
       "    .dataframe tbody tr th:only-of-type {\n",
       "        vertical-align: middle;\n",
       "    }\n",
       "\n",
       "    .dataframe tbody tr th {\n",
       "        vertical-align: top;\n",
       "    }\n",
       "\n",
       "    .dataframe thead th {\n",
       "        text-align: right;\n",
       "    }\n",
       "</style>\n",
       "<table border=\"1\" class=\"dataframe\">\n",
       "  <thead>\n",
       "    <tr style=\"text-align: right;\">\n",
       "      <th></th>\n",
       "      <th>Rating</th>\n",
       "      <th>Summary</th>\n",
       "      <th>Detailed feedback</th>\n",
       "    </tr>\n",
       "  </thead>\n",
       "  <tbody>\n",
       "    <tr>\n",
       "      <th>0</th>\n",
       "      <td>1</td>\n",
       "      <td>mens ultrasheer</td>\n",
       "      <td>This model may be ok for sedentary types, but ...</td>\n",
       "    </tr>\n",
       "    <tr>\n",
       "      <th>1</th>\n",
       "      <td>4</td>\n",
       "      <td>Surprisingly delightful</td>\n",
       "      <td>This is a fast read filled with unexpected hum...</td>\n",
       "    </tr>\n",
       "    <tr>\n",
       "      <th>2</th>\n",
       "      <td>2</td>\n",
       "      <td>Works, but not as advertised</td>\n",
       "      <td>I bought one of these chargers..the instructio...</td>\n",
       "    </tr>\n",
       "    <tr>\n",
       "      <th>3</th>\n",
       "      <td>2</td>\n",
       "      <td>Oh dear</td>\n",
       "      <td>I was excited to find a book ostensibly about ...</td>\n",
       "    </tr>\n",
       "    <tr>\n",
       "      <th>4</th>\n",
       "      <td>2</td>\n",
       "      <td>Incorrect disc!</td>\n",
       "      <td>I am a big JVC fan, but I do not like this mod...</td>\n",
       "    </tr>\n",
       "  </tbody>\n",
       "</table>\n",
       "</div>"
      ],
      "text/plain": [
       "   Rating                       Summary  \\\n",
       "0       1               mens ultrasheer   \n",
       "1       4       Surprisingly delightful   \n",
       "2       2  Works, but not as advertised   \n",
       "3       2                       Oh dear   \n",
       "4       2               Incorrect disc!   \n",
       "\n",
       "                                   Detailed feedback  \n",
       "0  This model may be ok for sedentary types, but ...  \n",
       "1  This is a fast read filled with unexpected hum...  \n",
       "2  I bought one of these chargers..the instructio...  \n",
       "3  I was excited to find a book ostensibly about ...  \n",
       "4  I am a big JVC fan, but I do not like this mod...  "
      ]
     },
     "execution_count": 1,
     "metadata": {},
     "output_type": "execute_result"
    }
   ],
   "source": [
    "import pandas as pd\n",
    "\n",
    "# Load the dataset\n",
    "file_path = 'amazon_review_small.csv'\n",
    "df = pd.read_csv(file_path)\n",
    "\n",
    "# Display the first few rows of the dataset\n",
    "df.head()\n"
   ]
  },
  {
   "cell_type": "code",
   "execution_count": 2,
   "id": "a9e8d5f5-5079-4f01-ac63-c15c67fba18a",
   "metadata": {},
   "outputs": [
    {
     "name": "stdout",
     "output_type": "stream",
     "text": [
      "Training data shape: (520000,)\n",
      "Testing data shape: (130000,)\n"
     ]
    }
   ],
   "source": [
    "import re\n",
    "from sklearn.model_selection import train_test_split\n",
    "\n",
    "# Text cleaning function\n",
    "def clean_text(text):\n",
    "    text = text.lower()  # Convert to lowercase\n",
    "    text = re.sub(r'\\d+', '', text)  # Remove digits\n",
    "    text = re.sub(r'[^\\w\\s]', '', text)  # Remove punctuation\n",
    "    text = re.sub(r'\\s+', ' ', text)  # Remove extra spaces\n",
    "    return text\n",
    "\n",
    "# Apply text cleaning to the 'Detailed feedback' column\n",
    "df['cleaned_review'] = df['Detailed feedback'].apply(clean_text)\n",
    "\n",
    "# Splitting data into features (cleaned reviews) and target (Rating)\n",
    "X = df['cleaned_review']\n",
    "y = df['Rating']\n",
    "\n",
    "# Split dataset into training and testing sets\n",
    "X_train, X_test, y_train, y_test = train_test_split(X, y, test_size=0.2, random_state=42)\n",
    "\n",
    "# Output the shape of the training data\n",
    "print(f\"Training data shape: {X_train.shape}\")\n",
    "print(f\"Testing data shape: {X_test.shape}\")\n"
   ]
  },
  {
   "cell_type": "code",
   "execution_count": 4,
   "id": "0d98ad0b-f547-41fd-9cb7-e33be40f8ba8",
   "metadata": {},
   "outputs": [
    {
     "name": "stdout",
     "output_type": "stream",
     "text": [
      "Index(['Rating', 'Summary', 'Detailed feedback', 'cleaned_review'], dtype='object')\n"
     ]
    }
   ],
   "source": [
    "# Check the column names in the dataset\n",
    "print(df.columns)\n"
   ]
  },
  {
   "cell_type": "code",
   "execution_count": 5,
   "id": "954cfd96-999d-466d-aa42-b0b436702d80",
   "metadata": {},
   "outputs": [
    {
     "name": "stdout",
     "output_type": "stream",
     "text": [
      "Index(['Rating', 'Summary', 'Detailed feedback', 'cleaned_review'], dtype='object')\n"
     ]
    }
   ],
   "source": [
    "# Strip column names of leading/trailing whitespace\n",
    "df.columns = df.columns.str.strip()\n",
    "print(df.columns)"
   ]
  },
  {
   "cell_type": "code",
   "execution_count": 6,
   "id": "3976ecd7-a2ea-4ac3-a690-b426c3dd058c",
   "metadata": {},
   "outputs": [
    {
     "ename": "",
     "evalue": "",
     "output_type": "error",
     "traceback": [
      "\u001b[1;31mThe Kernel crashed while executing code in the current cell or a previous cell. \n",
      "\u001b[1;31mPlease review the code in the cell(s) to identify a possible cause of the failure. \n",
      "\u001b[1;31mClick <a href='https://aka.ms/vscodeJupyterKernelCrash'>here</a> for more info. \n",
      "\u001b[1;31mView Jupyter <a href='command:jupyter.viewOutput'>log</a> for further details."
     ]
    }
   ],
   "source": [
    "import pandas as pd\n",
    "import re\n",
    "from sklearn.model_selection import train_test_split\n",
    "from sklearn.feature_extraction.text import TfidfVectorizer\n",
    "from sklearn.linear_model import LogisticRegression\n",
    "from sklearn.ensemble import RandomForestClassifier\n",
    "from sklearn.metrics import accuracy_score, classification_report\n",
    "from tensorflow.keras.models import Sequential\n",
    "from tensorflow.keras.layers import Dense, Dropout\n",
    "from tensorflow.keras.preprocessing.text import Tokenizer\n",
    "from tensorflow.keras.preprocessing.sequence import pad_sequences"
   ]
  },
  {
   "cell_type": "code",
   "execution_count": 3,
   "id": "1a1a446c-ca01-427d-9983-97e7e571ec17",
   "metadata": {},
   "outputs": [
    {
     "ename": "NameError",
     "evalue": "name 'train_test_split' is not defined",
     "output_type": "error",
     "traceback": [
      "\u001b[0;31m---------------------------------------------------------------------------\u001b[0m",
      "\u001b[0;31mNameError\u001b[0m                                 Traceback (most recent call last)",
      "Cell \u001b[0;32mIn[3], line 37\u001b[0m\n\u001b[1;32m     34\u001b[0m y \u001b[38;5;241m=\u001b[39m df[\u001b[38;5;124m'\u001b[39m\u001b[38;5;124mRating\u001b[39m\u001b[38;5;124m'\u001b[39m]\n\u001b[1;32m     36\u001b[0m \u001b[38;5;66;03m# Split dataset into training and testing sets\u001b[39;00m\n\u001b[0;32m---> 37\u001b[0m X_train, X_test, y_train, y_test \u001b[38;5;241m=\u001b[39m \u001b[43mtrain_test_split\u001b[49m(X, y, test_size\u001b[38;5;241m=\u001b[39m\u001b[38;5;241m0.2\u001b[39m, random_state\u001b[38;5;241m=\u001b[39m\u001b[38;5;241m42\u001b[39m)\n",
      "\u001b[0;31mNameError\u001b[0m: name 'train_test_split' is not defined"
     ]
    }
   ],
   "source": [
    "# import re\n",
    "\n",
    "# import pandas as pd\n",
    "\n",
    "# # Load the dataset\n",
    "# # file_path = 'amazon_review_small.csv'\n",
    "# # df = pd.read_csv(file_path)\n",
    "\n",
    "# # Display the first few rows of the dataset\n",
    "# df.head()\n",
    "\n",
    "\n",
    "\n",
    "\n",
    "\n",
    "\n",
    "# # Load dataset\n",
    "#   # Or the path to your local dataset\n",
    "# df = pd.read_csv(file_path)\n",
    "\n",
    "# # Text cleaning function\n",
    "# # def clean_text(text):\n",
    "#     # text = text.lower()  # Convert to lowercase\n",
    "#     # text = re.sub(r'\\d+', '', text)  # Remove digits\n",
    "#     # text = re.sub(r'[^\\w\\s]', '', text)  # Remove punctuation\n",
    "#     # text = re.sub(r'\\s+', ' ', text)  # Remove extra spaces\n",
    "#     # return text\n",
    "\n",
    "# # Apply text cleaning to 'Detailed feedback' column\n",
    "# # df['cleaned_review'] = df['Detailed feedback'].apply(clean_text)\n",
    "\n",
    "# # Splitting data into features (cleaned reviews) and target (Rating)\n",
    "# X = df['cleaned_review']\n",
    "# y = df['Rating']\n",
    "\n",
    "# # Split dataset into training and testing sets\n",
    "# X_train, X_test, y_train, y_test = train_test_split(X, y, test_size=0.2, random_state=42)\n"
   ]
  },
  {
   "cell_type": "code",
   "execution_count": 4,
   "id": "3da05bbe-982b-49e1-91ed-6b284089b1e2",
   "metadata": {},
   "outputs": [],
   "source": [
    "\n",
    "\n",
    "import pandas as pd\n",
    "\n",
    "# Load the dataset\n",
    "file_path = 'amazon_review_small.csv'\n",
    "df = pd.read_csv(file_path)\n",
    "\n",
    "# Display the first few rows of the dataset\n",
    "df.head()\n",
    "\n",
    "\n",
    "\n",
    "import pandas as pd\n",
    "import re  # Import the 're' module for regular expressions\n",
    "from sklearn.model_selection import train_test_split\n",
    "\n",
    "# Load dataset\n",
    "# file_path = '/mnt/data/amazon_review_small.csv'  # Or the path to your local dataset\n",
    "file_path = 'amazon_review_small.csv'\n",
    "df = pd.read_csv(file_path)\n",
    "\n",
    "# Text cleaning function\n",
    "def clean_text(text):\n",
    "    text = text.lower()  # Convert to lowercase\n",
    "    text = re.sub(r'\\d+', '', text)  # Remove digits\n",
    "    text = re.sub(r'[^\\w\\s]', '', text)  # Remove punctuation\n",
    "    text = re.sub(r'\\s+', ' ', text)  # Remove extra spaces\n",
    "    return text\n",
    "\n",
    "# Strip column names of leading/trailing whitespace (if needed)\n",
    "df.columns = df.columns.str.strip()\n",
    "\n",
    "# Apply text cleaning to 'Detailed feedback' column\n",
    "df['cleaned_review'] = df['Detailed feedback'].apply(clean_text)\n",
    "\n",
    "# Splitting data into features (cleaned reviews) and target (Rating)\n",
    "X = df['cleaned_review']\n",
    "y = df['Rating']\n",
    "\n",
    "# Split dataset into training and testing sets\n",
    "X_train, X_test, y_train, y_test = train_test_split(X, y, test_size=0.2, random_state=42)\n"
   ]
  },
  {
   "cell_type": "code",
   "execution_count": 5,
   "id": "4b8cbf05-eb7d-4a75-8f0b-65a4fa32bdeb",
   "metadata": {},
   "outputs": [],
   "source": [
    "import pandas as pd\n",
    "import re  # Import the 're' module for regular expressions\n",
    "from sklearn.model_selection import train_test_split\n",
    "from sklearn.feature_extraction.text import TfidfVectorizer\n",
    "\n",
    "\n",
    "# Convert text to numerical features using TF-IDF\n",
    "tfidf = TfidfVectorizer(max_features=5000)\n",
    "X_train_tfidf = tfidf.fit_transform(X_train).toarray()\n",
    "X_test_tfidf = tfidf.transform(X_test).toarray()\n"
   ]
  },
  {
   "cell_type": "code",
   "execution_count": 6,
   "id": "32d850e9-6cf0-46df-aac4-a5a0ca811e3c",
   "metadata": {},
   "outputs": [
    {
     "name": "stdout",
     "output_type": "stream",
     "text": [
      "Logistic Regression Accuracy: 0.5034615384615385\n",
      "              precision    recall  f1-score   support\n",
      "\n",
      "           1       0.59      0.65      0.62     25890\n",
      "           2       0.43      0.39      0.41     25983\n",
      "           3       0.42      0.40      0.41     26226\n",
      "           4       0.44      0.41      0.43     25849\n",
      "           5       0.59      0.67      0.63     26052\n",
      "\n",
      "    accuracy                           0.50    130000\n",
      "   macro avg       0.50      0.50      0.50    130000\n",
      "weighted avg       0.50      0.50      0.50    130000\n",
      "\n"
     ]
    }
   ],
   "source": [
    "import pandas as pd\n",
    "import re  # Import the 're' module for regular expressions\n",
    "from sklearn.model_selection import train_test_split\n",
    "from sklearn.feature_extraction.text import TfidfVectorizer\n",
    "from sklearn.linear_model import LogisticRegression  # Import LogisticRegression\n",
    "from sklearn.metrics import accuracy_score, classification_report  # Import evaluation metrics\n",
    "\n",
    "\n",
    "# Logistic Regression model\n",
    "log_reg = LogisticRegression(max_iter=1000)\n",
    "log_reg.fit(X_train_tfidf, y_train)\n",
    "\n",
    "# Make predictions\n",
    "y_pred_log = log_reg.predict(X_test_tfidf)\n",
    "\n",
    "# Evaluate performance\n",
    "accuracy_log = accuracy_score(y_test, y_pred_log)\n",
    "print(f'Logistic Regression Accuracy: {accuracy_log}')\n",
    "print(classification_report(y_test, y_pred_log))\n"
   ]
  },
  {
   "cell_type": "code",
   "execution_count": 8,
   "id": "7ec5a9c6-396a-4c5d-ae01-f5f48cca4961",
   "metadata": {},
   "outputs": [],
   "source": [
    "\n",
    "from sklearn.ensemble import RandomForestClassifier  # Import RandomForestClassifier\n",
    "\n",
    "\n",
    "# Random Forest Classifier\n",
    "rf_clf = RandomForestClassifier(n_estimators=100, random_state=42)\n",
    "rf_clf.fit(X_train_tfidf, y_train)\n",
    "\n",
    "# Make predictions\n",
    "y_pred_rf = rf_clf.predict(X_test_tfidf)\n",
    "\n",
    "# Evaluate performance\n",
    "accuracy_rf = accuracy_score(y_test, y_pred_rf)\n",
    "print(f'Random Forest Accuracy: {accuracy_rf}')\n",
    "print(classification_report(y_test, y_pred_rf))\n",
    "\n"
   ]
  },
  {
   "cell_type": "code",
   "execution_count": null,
   "id": "db34d6ec-a5d0-4393-a226-27282eb20897",
   "metadata": {},
   "outputs": [],
   "source": [
    "\n",
    "from tensorflow.keras.models import Sequential  # Import Sequential model\n",
    "from tensorflow.keras.layers import Dense, Dropout  # Import layers for the neural network\n",
    "\n",
    "\n",
    "# Build a neural network model\n",
    "model = Sequential()\n",
    "model.add(Dense(128, activation='relu', input_shape=(X_train_tfidf.shape[1],)))\n",
    "model.add(Dropout(0.3))\n",
    "model.add(Dense(64, activation='relu'))\n",
    "model.add(Dropout(0.3))\n",
    "model.add(Dense(1, activation='linear'))  # For regression\n",
    "\n",
    "# Compile the model\n",
    "model.compile(optimizer='adam', loss='mean_squared_error', metrics=['accuracy'])\n",
    "\n",
    "# Train the model\n",
    "history = model.fit(X_train_tfidf, y_train, epochs=5, batch_size=64, validation_split=0.2)\n",
    "\n",
    "# Evaluate the model\n",
    "score = model.evaluate(X_test_tfidf, y_test)\n",
    "print(f'Deep Learning Model Test Accuracy: {score[1]}')\n"
   ]
  },
  {
   "cell_type": "code",
   "execution_count": 7,
   "id": "e69fd545-1392-4bb9-996b-2fc086fdd859",
   "metadata": {},
   "outputs": [
    {
     "name": "stdout",
     "output_type": "stream",
     "text": [
      "Logistic Regression Accuracy: 0.5034615384615385\n"
     ]
    },
    {
     "ename": "NameError",
     "evalue": "name 'accuracy_rf' is not defined",
     "output_type": "error",
     "traceback": [
      "\u001b[0;31m---------------------------------------------------------------------------\u001b[0m",
      "\u001b[0;31mNameError\u001b[0m                                 Traceback (most recent call last)",
      "Cell \u001b[0;32mIn[7], line 2\u001b[0m\n\u001b[1;32m      1\u001b[0m \u001b[38;5;28mprint\u001b[39m(\u001b[38;5;124mf\u001b[39m\u001b[38;5;124m\"\u001b[39m\u001b[38;5;124mLogistic Regression Accuracy: \u001b[39m\u001b[38;5;132;01m{\u001b[39;00maccuracy_log\u001b[38;5;132;01m}\u001b[39;00m\u001b[38;5;124m\"\u001b[39m)\n\u001b[0;32m----> 2\u001b[0m \u001b[38;5;28mprint\u001b[39m(\u001b[38;5;124mf\u001b[39m\u001b[38;5;124m\"\u001b[39m\u001b[38;5;124mRandom Forest Accuracy: \u001b[39m\u001b[38;5;132;01m{\u001b[39;00maccuracy_rf\u001b[38;5;132;01m}\u001b[39;00m\u001b[38;5;124m\"\u001b[39m)\n\u001b[1;32m      3\u001b[0m \u001b[38;5;28mprint\u001b[39m(\u001b[38;5;124mf\u001b[39m\u001b[38;5;124m\"\u001b[39m\u001b[38;5;124mDeep Learning Model Accuracy: \u001b[39m\u001b[38;5;132;01m{\u001b[39;00mscore[\u001b[38;5;241m1\u001b[39m]\u001b[38;5;132;01m}\u001b[39;00m\u001b[38;5;124m\"\u001b[39m)\n",
      "\u001b[0;31mNameError\u001b[0m: name 'accuracy_rf' is not defined"
     ]
    }
   ],
   "source": [
    "print(f\"Logistic Regression Accuracy: {accuracy_log}\")\n",
    "print(f\"Random Forest Accuracy: {accuracy_rf}\")\n",
    "print(f\"Deep Learning Model Accuracy: {score[1]}\")\n"
   ]
  },
  {
   "cell_type": "code",
   "execution_count": null,
   "id": "0c422f1b-40b5-48f0-b782-d7e3a2d3f802",
   "metadata": {},
   "outputs": [],
   "source": [
    "from sklearn.ensemble import RandomForestClassifier  # Import RandomForestClassifier\n"
   ]
  },
  {
   "cell_type": "code",
   "execution_count": null,
   "id": "0f746115",
   "metadata": {},
   "outputs": [],
   "source": []
  }
 ],
 "metadata": {
  "kernelspec": {
   "display_name": "Python 3 (ipykernel)",
   "language": "python",
   "name": "python3"
  },
  "language_info": {
   "codemirror_mode": {
    "name": "ipython",
    "version": 3
   },
   "file_extension": ".py",
   "mimetype": "text/x-python",
   "name": "python",
   "nbconvert_exporter": "python",
   "pygments_lexer": "ipython3",
   "version": "3.10.9"
  }
 },
 "nbformat": 4,
 "nbformat_minor": 5
}
